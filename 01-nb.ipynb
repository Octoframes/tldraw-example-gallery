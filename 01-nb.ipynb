{
 "cells": [
  {
   "attachments": {},
   "cell_type": "markdown",
   "id": "307aedfb",
   "metadata": {},
   "source": [
    "# Tldraw Gallery\n",
    "\n",
    "## The Basics"
   ]
  },
  {
   "cell_type": "code",
   "execution_count": 1,
   "id": "e931b3d1",
   "metadata": {},
   "outputs": [],
   "source": [
    "%load_ext ipyreact"
   ]
  },
  {
   "cell_type": "code",
   "execution_count": 2,
   "id": "956c39c3",
   "metadata": {},
   "outputs": [
    {
     "data": {
      "application/vnd.jupyter.widget-view+json": {
       "model_id": "2d22e17ac03f493b8e851ce03a508176",
       "version_major": 2,
       "version_minor": 0
      },
      "text/plain": [
       "Widget()"
      ]
     },
     "metadata": {},
     "output_type": "display_data"
    }
   ],
   "source": [
    "%%react\n",
    "\n",
    "import * as React from \"react\";\n",
    "import { Tldraw } from \"@tldraw/tldraw\";\n",
    "\n",
    "export default function App() {\n",
    "  return (\n",
    "    <div\n",
    "      style={{\n",
    "        position: \"relative\",\n",
    "        width: \"600px\",\n",
    "        height: \"200px\",\n",
    "      }}\n",
    "    >\n",
    "      <Tldraw />\n",
    "    </div>\n",
    "  );\n",
    "}"
   ]
  },
  {
   "cell_type": "code",
   "execution_count": 3,
   "id": "f3c76b5b",
   "metadata": {},
   "outputs": [
    {
     "data": {
      "application/vnd.jupyter.widget-view+json": {
       "model_id": "d033cfad0e9640fa956765e1a335573e",
       "version_major": 2,
       "version_minor": 0
      },
      "text/plain": [
       "Widget()"
      ]
     },
     "metadata": {},
     "output_type": "display_data"
    }
   ],
   "source": [
    "%%react\n",
    "\n",
    "import { TDShapeType, Tldraw } from \"@tldraw/tldraw\";\n",
    "import * as React from \"react\";\n",
    "\n",
    "export default function App() {\n",
    "\n",
    "const handleMount = React.useCallback((app: Tldraw) => {\n",
    "\n",
    "    app.createShapes({\n",
    "    id: \"rect1\",\n",
    "    type: TDShapeType.Rectangle,\n",
    "    point: [100, 100],\n",
    "    size: [400, 200],\n",
    "    });\n",
    "});\n",
    "\n",
    "return (\n",
    "    <div\n",
    "    style={{\n",
    "        position: \"relative\",\n",
    "        width: \"600px\",\n",
    "        height: \"400px\",\n",
    "    }}\n",
    "    >\n",
    "    <Tldraw onMount={handleMount} />\n",
    "    </div>\n",
    ");\n",
    "}\n"
   ]
  },
  {
   "cell_type": "code",
   "execution_count": 4,
   "id": "fd52982d-ad44-4c42-9592-4c96dcdb0abf",
   "metadata": {},
   "outputs": [
    {
     "data": {
      "application/vnd.jupyter.widget-view+json": {
       "model_id": "5ae10aa2bf01403f96d7b516481c9372",
       "version_major": 2,
       "version_minor": 0
      },
      "text/plain": [
       "Widget()"
      ]
     },
     "metadata": {},
     "output_type": "display_data"
    }
   ],
   "source": [
    "%%react\n",
    "import { TDShapeType, Tldraw } from '@tldraw/tldraw'\n",
    "import * as React from 'react'\n",
    "\n",
    "\n",
    "export default function App() {\n",
    "\n",
    "const handleMount = React.useCallback((app: Tldraw) => {\n",
    "    app\n",
    "    .createShapes({\n",
    "    id: 'text1',\n",
    "    type: TDShapeType.Text,\n",
    "    point: [200, 200],\n",
    "    text: \"This is Tldrawesome!!🎉\",\n",
    "    color: \"blue\",\n",
    "\n",
    "    })\n",
    "})\n",
    "\n",
    "return (\n",
    "    <div\n",
    "    style={{\n",
    "        position: \"relative\",\n",
    "        width: \"800px\",\n",
    "        height: \"350px\"\n",
    "    }}\n",
    "    >\n",
    "    <Tldraw onMount={handleMount} />\n",
    "    </div>\n",
    ")\n",
    "}\n"
   ]
  },
  {
   "cell_type": "code",
   "execution_count": 5,
   "id": "bdf420b9-c2ab-4798-b8a9-052e8b8776df",
   "metadata": {},
   "outputs": [
    {
     "data": {
      "application/vnd.jupyter.widget-view+json": {
       "model_id": "edd7cf2a6e82458c86e60b882d4e57ad",
       "version_major": 2,
       "version_minor": 0
      },
      "text/plain": [
       "Widget()"
      ]
     },
     "metadata": {},
     "output_type": "display_data"
    }
   ],
   "source": [
    "%%react\n",
    "\n",
    "import * as React from \"react\";\n",
    "import { TDAssetType, TDShapeType, Tldraw, TldrawApp } from \"@tldraw/tldraw\";\n",
    "\n",
    "export default function App() {\n",
    "  const handleMount = (app: TldrawApp) => {\n",
    "    // You can use the app API here! e.g. app.selectAll()\n",
    "    app.patchAssets({\n",
    "      myAssetId: {\n",
    "        id: \"myAssetId\",\n",
    "        type: TDAssetType.Image,\n",
    "        fileName: \"card-repo.png\",\n",
    "        src: \"https://raw.githubusercontent.com/scikit-image/scikit-image/main/skimage/data/chelsea.png\"\n",
    "      }\n",
    "    });\n",
    "\n",
    "    app.createShapes({\n",
    "      id: \"myImage\",\n",
    "      type: TDShapeType.Image,\n",
    "      assetId: \"myAssetId\",\n",
    "      point: [64, 64],\n",
    "      size: [400, 340]\n",
    "    });\n",
    "  };\n",
    "\n",
    "return (\n",
    "        <div\n",
    "        style={{\n",
    "            position: \"relative\",\n",
    "            width: \"800px\",\n",
    "            height: \"350px\"\n",
    "        }}\n",
    "        >\n",
    "        <Tldraw onMount={handleMount} />\n",
    "        </div>\n",
    "    )\n",
    "    }\n"
   ]
  },
  {
   "attachments": {},
   "cell_type": "markdown",
   "id": "ea0471d9",
   "metadata": {},
   "source": [
    "## The GUI\n",
    "\n",
    "Some examples how to show and Hide GUI elements."
   ]
  },
  {
   "attachments": {},
   "cell_type": "markdown",
   "id": "c43fa0d0",
   "metadata": {},
   "source": [
    "## Another example\n",
    "\n",
    "Lalalala\n",
    "\n",
    "### in detail\n",
    "\n",
    "blalabla"
   ]
  },
  {
   "cell_type": "code",
   "execution_count": null,
   "id": "c862d13c",
   "metadata": {},
   "outputs": [],
   "source": []
  }
 ],
 "metadata": {
  "kernelspec": {
   "display_name": "Python 3 (ipykernel)",
   "language": "python",
   "name": "python3"
  },
  "language_info": {
   "codemirror_mode": {
    "name": "ipython",
    "version": 3
   },
   "file_extension": ".py",
   "mimetype": "text/x-python",
   "name": "python",
   "nbconvert_exporter": "python",
   "pygments_lexer": "ipython3",
   "version": "3.11.4"
  },
  "widgets": {
   "application/vnd.jupyter.widget-state+json": {
    "state": {
     "06463f6c51b14809ba93afbf3f015d1b": {
      "model_module": "@jupyter-widgets/base",
      "model_module_version": "2.0.0",
      "model_name": "LayoutModel",
      "state": {}
     },
     "0a07ca4e66144af6bc5ab78def870b88": {
      "model_module": "@jupyter-widgets/base",
      "model_module_version": "2.0.0",
      "model_name": "LayoutModel",
      "state": {}
     },
     "1216e94416444d2ea6eec22a6808e63b": {
      "model_module": "@widgetti/jupyter-react",
      "model_module_version": "^0.3.0",
      "model_name": "ReactModel",
      "state": {
       "_anywidget_id": "ipyreact.cellmagic.Widget",
       "_esm": "import { TDExport, TDExportType, Tldraw, TldrawApp } from '@tldraw/tldraw'\nimport * as React from 'react'\n\nconst ACTION = 'download' as 'download' | 'open'\n\nexport default function Export() {\n  const handleExport = React.useCallback(async (app: TldrawApp, info: TDExport) => {\n    // When a user exports, the default behavior is to download\n    // the exported data as a file. If the onExport callback is\n    // provided, it will be called instead.\n\n    switch (ACTION) {\n      case 'download': {\n        // Download the file\n        const blobUrl = URL.createObjectURL(info.blob)\n        const link = document.createElement('a')\n        link.href = blobUrl\n        link.download = info.name + '.' + info.type\n        link.click()\n        break\n      }\n      case 'open': {\n        // Open the file in a new tab\n        const blobUrl = URL.createObjectURL(info.blob)\n        const link = document.createElement('a')\n        link.href = blobUrl\n        link.target = '_blank'\n        link.click()\n        break\n      }\n    }\n  }, [])\n\n  const [app, setApp] = React.useState<TldrawApp>()\n\n  const handleExportSVG = React.useCallback(() => {\n    app?.exportImage(TDExportType.SVG, { scale: 1, quality: 1 })\n  }, [app])\n\n  const handleExportPNG = React.useCallback(() => {\n    app?.exportImage(TDExportType.PNG, { scale: 2, quality: 1 })\n  }, [app])\n\n  const handleExportJPG = React.useCallback(() => {\n    app?.exportImage(TDExportType.JPG, { scale: 2, quality: 1 })\n  }, [app])\n\n  const handleMount = React.useCallback((app: TldrawApp) => {\n    setApp(app)\n  }, [])\n\n\n\n  return (\n    <div className=\"tldraw\" style={{\n            position: \"relative\",\n            width: \"800px\",\n            height: \"350px\"\n        }} >\n      <Tldraw id=\"export_example\" onMount={handleMount} onExport={handleExport} />\n      <div style={{ position: 'relative', top: 128, left: 32, zIndex: 100 }}>\n        <button onClick={handleExportPNG}>Export as PNG</button>\n        <button onClick={handleExportSVG}>Export as SVG</button>\n        <button onClick={handleExportJPG}>Export as JPG</button>\n      </div>\n    </div>\n  )\n}\n",
       "_event_names": [],
       "_import_map": {
        "imports": {
         "@mui/icons-material/": "https://esm.sh/@mui/icons-material/",
         "@mui/material/": "https://esm.sh/@mui/material@5.11.10/",
         "canvas-confetti": "https://esm.sh/canvas-confetti@1.6.0"
        },
        "scopes": {}
       },
       "_model_module_version": "^0.3.0",
       "_view_module_version": "^0.3.0",
       "debug": false,
       "layout": "IPY_MODEL_f4103de634fc4cf288d7f3fe7d5b5ffa",
       "name": null,
       "react_version": 18
      }
     },
     "1df13d559fa74f999a70e073f0309b21": {
      "model_module": "@widgetti/jupyter-react",
      "model_module_version": "^0.3.0",
      "model_name": "ReactModel",
      "state": {
       "_anywidget_id": "ipyreact.cellmagic.Widget",
       "_esm": "import * as React from \"react\";\nimport { Tldraw } from \"@tldraw/tldraw\";\n\nexport default function App() {\n  return (\n    <div\n      style={{\n        position: \"relative\",\n        width: \"800px\",\n        height: \"350px\",\n      }}\n    >\n      <Tldraw />\n    </div>\n  );\n}\n",
       "_event_names": [],
       "_import_map": {
        "imports": {
         "@mui/icons-material/": "https://esm.sh/@mui/icons-material/",
         "@mui/material/": "https://esm.sh/@mui/material@5.11.10/",
         "canvas-confetti": "https://esm.sh/canvas-confetti@1.6.0"
        },
        "scopes": {}
       },
       "_model_module_version": "^0.3.0",
       "_view_module_version": "^0.3.0",
       "debug": false,
       "layout": "IPY_MODEL_491efe5a95fc410e89c08d16efab85b5",
       "name": null,
       "react_version": 18
      }
     },
     "2d22e17ac03f493b8e851ce03a508176": {
      "model_module": "@widgetti/jupyter-react",
      "model_module_version": "^0.3.0",
      "model_name": "ReactModel",
      "state": {
       "_anywidget_id": "ipyreact.cellmagic.Widget",
       "_esm": "import * as React from \"react\";\nimport { Tldraw } from \"@tldraw/tldraw\";\n\nexport default function App() {\n  return (\n    <div\n      style={{\n        position: \"relative\",\n        width: \"600px\",\n        height: \"200px\",\n      }}\n    >\n      <Tldraw />\n    </div>\n  );\n}\n",
       "_event_names": [],
       "_import_map": {
        "imports": {
         "@mui/icons-material/": "https://esm.sh/@mui/icons-material/",
         "@mui/material/": "https://esm.sh/@mui/material@5.11.10/",
         "canvas-confetti": "https://esm.sh/canvas-confetti@1.6.0"
        },
        "scopes": {}
       },
       "_model_module_version": "^0.3.0",
       "_view_module_version": "^0.3.0",
       "debug": false,
       "layout": "IPY_MODEL_38205e3954cd4e4f89cc8ac7ab59c4dc",
       "name": null,
       "react_version": 18
      }
     },
     "38205e3954cd4e4f89cc8ac7ab59c4dc": {
      "model_module": "@jupyter-widgets/base",
      "model_module_version": "2.0.0",
      "model_name": "LayoutModel",
      "state": {}
     },
     "4145ce3367bf4c09a12818d610ede3e3": {
      "model_module": "@jupyter-widgets/base",
      "model_module_version": "2.0.0",
      "model_name": "LayoutModel",
      "state": {}
     },
     "491efe5a95fc410e89c08d16efab85b5": {
      "model_module": "@jupyter-widgets/base",
      "model_module_version": "2.0.0",
      "model_name": "LayoutModel",
      "state": {}
     },
     "5ae10aa2bf01403f96d7b516481c9372": {
      "model_module": "@widgetti/jupyter-react",
      "model_module_version": "^0.3.0",
      "model_name": "ReactModel",
      "state": {
       "_anywidget_id": "ipyreact.cellmagic.Widget",
       "_esm": "import { TDShapeType, Tldraw } from '@tldraw/tldraw'\nimport * as React from 'react'\n\n\nexport default function App() {\n\nconst handleMount = React.useCallback((app: Tldraw) => {\n    app\n    .createShapes({\n    id: 'text1',\n    type: TDShapeType.Text,\n    point: [200, 200],\n    text: \"This is Tldrawesome!!🎉\",\n    color: \"blue\",\n\n    })\n})\n\nreturn (\n    <div\n    style={{\n        position: \"relative\",\n        width: \"800px\",\n        height: \"350px\"\n    }}\n    >\n    <Tldraw onMount={handleMount} />\n    </div>\n)\n}\n",
       "_event_names": [],
       "_import_map": {
        "imports": {
         "@mui/icons-material/": "https://esm.sh/@mui/icons-material/",
         "@mui/material/": "https://esm.sh/@mui/material@5.11.10/",
         "canvas-confetti": "https://esm.sh/canvas-confetti@1.6.0"
        },
        "scopes": {}
       },
       "_model_module_version": "^0.3.0",
       "_view_module_version": "^0.3.0",
       "debug": false,
       "layout": "IPY_MODEL_74299c5f82bf4a90ade17fd954ff4306",
       "name": null,
       "react_version": 18
      }
     },
     "74299c5f82bf4a90ade17fd954ff4306": {
      "model_module": "@jupyter-widgets/base",
      "model_module_version": "2.0.0",
      "model_name": "LayoutModel",
      "state": {}
     },
     "8abbe80b2d894284a4ea641b6b5f9ded": {
      "model_module": "@jupyter-widgets/base",
      "model_module_version": "2.0.0",
      "model_name": "LayoutModel",
      "state": {}
     },
     "a9acdd65ce5f4dd58af139d4b25c0899": {
      "model_module": "@widgetti/jupyter-react",
      "model_module_version": "^0.3.0",
      "model_name": "ReactModel",
      "state": {
       "_anywidget_id": "__main__.Tldraw",
       "_esm": "\n    import { TDShapeType, Tldraw } from \"@tldraw/tldraw\";\n    import * as React from \"react\";\n\n    export default function App() {\n\n    const handleMount = React.useCallback((app: Tldraw) => {\n\n        app.createShapes({\n        id: \"rect1\",\n        type: TDShapeType.Rectangle,\n        point: [100, 100],\n        size: [500, 200],\n        });\n    });\n\n    return (\n        <div\n        style={{\n            position: \"relative\",\n            width: \"800px\",\n            height: \"350px\",\n        }}\n        >\n        <Tldraw onMount={handleMount} />\n        </div>\n    );\n    }\n    ",
       "_event_names": [],
       "_import_map": {
        "imports": {
         "@mui/icons-material/": "https://esm.sh/@mui/icons-material/",
         "@mui/material/": "https://esm.sh/@mui/material@5.11.10/",
         "canvas-confetti": "https://esm.sh/canvas-confetti@1.6.0"
        },
        "scopes": {}
       },
       "_model_module_version": "^0.3.0",
       "_view_module_version": "^0.3.0",
       "debug": false,
       "layout": "IPY_MODEL_06463f6c51b14809ba93afbf3f015d1b",
       "name": null,
       "react_version": 18
      }
     },
     "bfbb9d31ed2d4699a8683e751ef032b4": {
      "model_module": "@widgetti/jupyter-react",
      "model_module_version": "^0.3.0",
      "model_name": "ReactModel",
      "state": {
       "_anywidget_id": "ipyreact.cellmagic.Widget",
       "_esm": "import * as React from \"react\";\nimport { Tldraw } from \"@tldraw/tldraw\";\n\nexport default function App() {\n  return (\n    <div\n      style={{\n        position: \"relative\",\n        width: \"800px\",\n        height: \"350px\",\n      }}\n    >\n      <Tldraw />\n    </div>\n  );\n}\n",
       "_event_names": [],
       "_import_map": {
        "imports": {
         "@mui/icons-material/": "https://esm.sh/@mui/icons-material/",
         "@mui/material/": "https://esm.sh/@mui/material@5.11.10/",
         "canvas-confetti": "https://esm.sh/canvas-confetti@1.6.0"
        },
        "scopes": {}
       },
       "_model_module_version": "^0.3.0",
       "_view_module_version": "^0.3.0",
       "debug": false,
       "layout": "IPY_MODEL_4145ce3367bf4c09a12818d610ede3e3",
       "name": null,
       "react_version": 18
      }
     },
     "c3fe057d231f4cba8cff1ceaca93f5fb": {
      "model_module": "@widgetti/jupyter-react",
      "model_module_version": "^0.3.0",
      "model_name": "ReactModel",
      "state": {
       "_anywidget_id": "__main__.MyExampleWidget",
       "_esm": "\n    import * as React from \"react\";\n\n    export default function MyButton() {\n        return < button > X < /button> \n    };",
       "_event_names": [],
       "_import_map": {
        "imports": {
         "@mui/icons-material/": "https://esm.sh/@mui/icons-material/",
         "@mui/material/": "https://esm.sh/@mui/material@5.11.10/",
         "canvas-confetti": "https://esm.sh/canvas-confetti@1.6.0"
        },
        "scopes": {}
       },
       "_model_module_version": "^0.3.0",
       "_view_module_version": "^0.3.0",
       "debug": false,
       "layout": "IPY_MODEL_cc0e7a9451b4434eb8688978bde88932",
       "name": null,
       "react_version": 18
      }
     },
     "cc0e7a9451b4434eb8688978bde88932": {
      "model_module": "@jupyter-widgets/base",
      "model_module_version": "2.0.0",
      "model_name": "LayoutModel",
      "state": {}
     },
     "d033cfad0e9640fa956765e1a335573e": {
      "model_module": "@widgetti/jupyter-react",
      "model_module_version": "^0.3.0",
      "model_name": "ReactModel",
      "state": {
       "_anywidget_id": "ipyreact.cellmagic.Widget",
       "_esm": "import { TDShapeType, Tldraw } from \"@tldraw/tldraw\";\nimport * as React from \"react\";\n\nexport default function App() {\n\nconst handleMount = React.useCallback((app: Tldraw) => {\n\n    app.createShapes({\n    id: \"rect1\",\n    type: TDShapeType.Rectangle,\n    point: [100, 100],\n    size: [400, 200],\n    });\n});\n\nreturn (\n    <div\n    style={{\n        position: \"relative\",\n        width: \"600px\",\n        height: \"400px\",\n    }}\n    >\n    <Tldraw onMount={handleMount} />\n    </div>\n);\n}\n",
       "_event_names": [],
       "_import_map": {
        "imports": {
         "@mui/icons-material/": "https://esm.sh/@mui/icons-material/",
         "@mui/material/": "https://esm.sh/@mui/material@5.11.10/",
         "canvas-confetti": "https://esm.sh/canvas-confetti@1.6.0"
        },
        "scopes": {}
       },
       "_model_module_version": "^0.3.0",
       "_view_module_version": "^0.3.0",
       "debug": false,
       "layout": "IPY_MODEL_0a07ca4e66144af6bc5ab78def870b88",
       "name": null,
       "react_version": 18
      }
     },
     "e4f485205e2e4bee9b8442adbd985a26": {
      "model_module": "@jupyter-widgets/base",
      "model_module_version": "2.0.0",
      "model_name": "LayoutModel",
      "state": {}
     },
     "edd7cf2a6e82458c86e60b882d4e57ad": {
      "model_module": "@widgetti/jupyter-react",
      "model_module_version": "^0.3.0",
      "model_name": "ReactModel",
      "state": {
       "_anywidget_id": "ipyreact.cellmagic.Widget",
       "_esm": "import * as React from \"react\";\nimport { TDAssetType, TDShapeType, Tldraw, TldrawApp } from \"@tldraw/tldraw\";\n\nexport default function App() {\n  const handleMount = (app: TldrawApp) => {\n    // You can use the app API here! e.g. app.selectAll()\n    app.patchAssets({\n      myAssetId: {\n        id: \"myAssetId\",\n        type: TDAssetType.Image,\n        fileName: \"card-repo.png\",\n        src: \"https://raw.githubusercontent.com/scikit-image/scikit-image/main/skimage/data/chelsea.png\"\n      }\n    });\n\n    app.createShapes({\n      id: \"myImage\",\n      type: TDShapeType.Image,\n      assetId: \"myAssetId\",\n      point: [64, 64],\n      size: [400, 340]\n    });\n  };\n\nreturn (\n        <div\n        style={{\n            position: \"relative\",\n            width: \"800px\",\n            height: \"350px\"\n        }}\n        >\n        <Tldraw onMount={handleMount} />\n        </div>\n    )\n    }\n",
       "_event_names": [],
       "_import_map": {
        "imports": {
         "@mui/icons-material/": "https://esm.sh/@mui/icons-material/",
         "@mui/material/": "https://esm.sh/@mui/material@5.11.10/",
         "canvas-confetti": "https://esm.sh/canvas-confetti@1.6.0"
        },
        "scopes": {}
       },
       "_model_module_version": "^0.3.0",
       "_view_module_version": "^0.3.0",
       "debug": false,
       "layout": "IPY_MODEL_e4f485205e2e4bee9b8442adbd985a26",
       "name": null,
       "react_version": 18
      }
     },
     "f0be2b8af9e54002b7a17631934c56bb": {
      "model_module": "@widgetti/jupyter-react",
      "model_module_version": "^0.3.0",
      "model_name": "ReactModel",
      "state": {
       "_anywidget_id": "ipyreact.cellmagic.Widget",
       "_esm": "import * as React from \"react\";\nimport { Tldraw } from \"@tldraw/tldraw\";\n\nexport default function App() {\n  return (\n    <div\n      style={{\n        position: \"relative\",\n        width: \"800px\",\n        height: \"350px\",\n      }}\n    >\n      <Tldraw />\n    </div>\n  );\n}\n",
       "_event_names": [],
       "_import_map": {
        "imports": {
         "@mui/icons-material/": "https://esm.sh/@mui/icons-material/",
         "@mui/material/": "https://esm.sh/@mui/material@5.11.10/",
         "canvas-confetti": "https://esm.sh/canvas-confetti@1.6.0"
        },
        "scopes": {}
       },
       "_model_module_version": "^0.3.0",
       "_view_module_version": "^0.3.0",
       "debug": false,
       "layout": "IPY_MODEL_8abbe80b2d894284a4ea641b6b5f9ded",
       "name": null,
       "react_version": 18
      }
     },
     "f4103de634fc4cf288d7f3fe7d5b5ffa": {
      "model_module": "@jupyter-widgets/base",
      "model_module_version": "2.0.0",
      "model_name": "LayoutModel",
      "state": {}
     }
    },
    "version_major": 2,
    "version_minor": 0
   }
  }
 },
 "nbformat": 4,
 "nbformat_minor": 5
}
