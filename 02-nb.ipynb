{
 "cells": [
  {
   "attachments": {},
   "cell_type": "markdown",
   "id": "c98a37c3",
   "metadata": {},
   "source": [
    "# More stuff\n"
   ]
  },
  {
   "cell_type": "code",
   "execution_count": 1,
   "id": "7e42d03b",
   "metadata": {},
   "outputs": [
    {
     "data": {
      "application/vnd.jupyter.widget-view+json": {
       "model_id": "01d40f3c88b2499fbd4ff596164159b0",
       "version_major": 2,
       "version_minor": 0
      },
      "text/plain": [
       "QRCodeWidget(content='Hello World')"
      ]
     },
     "execution_count": 1,
     "metadata": {},
     "output_type": "execute_result"
    }
   ],
   "source": [
    "import ipyreact\n",
    "from traitlets import Unicode\n",
    "\n",
    "class QRCodeWidget(ipyreact.ReactWidget):\n",
    "    content = Unicode(\"\").tag(sync=True)\n",
    "    _esm = \"\"\"\n",
    "    import React from \"react\";\n",
    "    import QRCode from \"react-qr-code\";\n",
    "\n",
    "    export default function App({ content }) {\n",
    "      return <QRCode value={content} />\n",
    "    }\n",
    "\n",
    "    \"\"\"\n",
    "\n",
    "QRCodeWidget(content=\"Hello World\")"
   ]
  },
  {
   "cell_type": "code",
   "execution_count": 2,
   "id": "c72bbba7",
   "metadata": {},
   "outputs": [
    {
     "data": {
      "text/plain": [
       "'8.0.6'"
      ]
     },
     "execution_count": 2,
     "metadata": {},
     "output_type": "execute_result"
    }
   ],
   "source": [
    "# get version of ipywidgets\n",
    "import ipywidgets\n",
    "ipywidgets.__version__"
   ]
  }
 ],
 "metadata": {
  "file_format": "mystnb",
  "kernelspec": {
   "display_name": "Python 3 (ipykernel)",
   "language": "python",
   "name": "python3"
  },
  "language_info": {
   "codemirror_mode": {
    "name": "ipython",
    "version": 3
   },
   "file_extension": ".py",
   "mimetype": "text/x-python",
   "name": "python",
   "nbconvert_exporter": "python",
   "pygments_lexer": "ipython3",
   "version": "3.11.4"
  },
  "source_map": [
   5,
   17,
   21,
   32,
   40,
   49,
   57,
   77,
   82,
   89,
   122,
   138,
   146
  ],
  "widgets": {
   "application/vnd.jupyter.widget-state+json": {
    "state": {
     "01d40f3c88b2499fbd4ff596164159b0": {
      "model_module": "@widgetti/jupyter-react",
      "model_module_version": "^0.3.0",
      "model_name": "ReactModel",
      "state": {
       "_anywidget_id": "__main__.QRCodeWidget",
       "_esm": "\n    import React from \"react\";\n    import QRCode from \"react-qr-code\";\n\n    export default function App({ content }) {\n      return <QRCode value={content} />\n    }\n\n    ",
       "_event_names": [],
       "_import_map": {
        "imports": {
         "@mui/icons-material/": "https://esm.sh/@mui/icons-material/",
         "@mui/material/": "https://esm.sh/@mui/material@5.11.10/",
         "canvas-confetti": "https://esm.sh/canvas-confetti@1.6.0"
        },
        "scopes": {}
       },
       "_model_module_version": "^0.3.0",
       "_view_module_version": "^0.3.0",
       "content": "Hello World",
       "debug": false,
       "layout": "IPY_MODEL_19175446e0bc49ec81ec2e48b096a9ca",
       "name": null,
       "react_version": 18
      }
     },
     "0598d9a3ee894de3ab9b2425321e72d9": {
      "model_module": "@jupyter-widgets/controls",
      "model_module_version": "2.0.0",
      "model_name": "TextStyleModel",
      "state": {
       "description_width": "",
       "font_size": null,
       "text_color": null
      }
     },
     "0ab9d296e8564fc9a4e0656ce7364c34": {
      "model_module": "@jupyter-widgets/controls",
      "model_module_version": "2.0.0",
      "model_name": "IntSliderModel",
      "state": {
       "behavior": "drag-tap",
       "continuous_update": false,
       "description": "Test:",
       "layout": "IPY_MODEL_a19dfea431c549aaab1a8b4224401817",
       "max": 10,
       "style": "IPY_MODEL_8216ba79a9c34179be25bea5e7016969",
       "value": 7
      }
     },
     "0e86aa25b27e4a93bdb8ebd388712c84": {
      "model_module": "@jupyter-widgets/base",
      "model_module_version": "2.0.0",
      "model_name": "LayoutModel",
      "state": {}
     },
     "19175446e0bc49ec81ec2e48b096a9ca": {
      "model_module": "@jupyter-widgets/base",
      "model_module_version": "2.0.0",
      "model_name": "LayoutModel",
      "state": {}
     },
     "1fad984c6bd04ace8e86eaac084db67c": {
      "model_module": "@jupyter-widgets/controls",
      "model_module_version": "2.0.0",
      "model_name": "TextStyleModel",
      "state": {
       "description_width": "",
       "font_size": null,
       "text_color": null
      }
     },
     "240966316b314305ba3d174417879cef": {
      "model_module": "@jupyter-widgets/base",
      "model_module_version": "2.0.0",
      "model_name": "LayoutModel",
      "state": {}
     },
     "261e242e29ad45fea4a11c62fb7e62bf": {
      "model_module": "@jupyter-widgets/controls",
      "model_module_version": "2.0.0",
      "model_name": "TextModel",
      "state": {
       "description": "P0",
       "layout": "IPY_MODEL_240966316b314305ba3d174417879cef",
       "style": "IPY_MODEL_1fad984c6bd04ace8e86eaac084db67c"
      }
     },
     "2df24bd400c0492282556f60d7b8d759": {
      "model_module": "@jupyter-widgets/base",
      "model_module_version": "2.0.0",
      "model_name": "LayoutModel",
      "state": {}
     },
     "318c7f05829c4998b157fd31f762be59": {
      "model_module": "@jupyter-widgets/controls",
      "model_module_version": "2.0.0",
      "model_name": "TextModel",
      "state": {
       "description": "P3",
       "layout": "IPY_MODEL_82394df750924662b4a255fce9d73900",
       "style": "IPY_MODEL_31a107fe08f54ba690f7eeda6bb1ade8"
      }
     },
     "31a107fe08f54ba690f7eeda6bb1ade8": {
      "model_module": "@jupyter-widgets/controls",
      "model_module_version": "2.0.0",
      "model_name": "TextStyleModel",
      "state": {
       "description_width": "",
       "font_size": null,
       "text_color": null
      }
     },
     "3678753b2b764b808296afed21d874a1": {
      "model_module": "@jupyter-widgets/controls",
      "model_module_version": "2.0.0",
      "model_name": "TextStyleModel",
      "state": {
       "description_width": "",
       "font_size": null,
       "text_color": null
      }
     },
     "36e1554bcf294cecb8da9d1129e584cb": {
      "model_module": "@jupyter-widgets/controls",
      "model_module_version": "2.0.0",
      "model_name": "TabModel",
      "state": {
       "children": [
        "IPY_MODEL_261e242e29ad45fea4a11c62fb7e62bf",
        "IPY_MODEL_95ecd70bba6f49889254439a3c7e0bf3",
        "IPY_MODEL_c9a50fbd639e48cfb57bb15cc027292a",
        "IPY_MODEL_318c7f05829c4998b157fd31f762be59",
        "IPY_MODEL_f9fa76b6bd2148c58f4276f43ce553f9"
       ],
       "layout": "IPY_MODEL_47763eedd2d64892be08af6f51fbd976",
       "selected_index": 0,
       "titles": [
        "tab_0",
        "tab_1",
        "tab_2",
        "tab_3",
        "tab_4"
       ]
      }
     },
     "44bdb03b3ab74c7095b8eb5d03b6dad8": {
      "model_module": "@widgetti/jupyter-react",
      "model_module_version": "^0.3.0",
      "model_name": "ReactModel",
      "state": {
       "_anywidget_id": "__main__.QRCodeWidget",
       "_esm": "\n    import React from \"react\";\n    import QRCode from \"react-qr-code\";\n\n    export default function App({ content }) {\n      return <QRCode value={content} />\n    }\n\n    ",
       "_event_names": [],
       "_import_map": {
        "imports": {
         "@mui/icons-material/": "https://esm.sh/@mui/icons-material/",
         "@mui/material/": "https://esm.sh/@mui/material@5.11.10/",
         "canvas-confetti": "https://esm.sh/canvas-confetti@1.6.0"
        },
        "scopes": {}
       },
       "_model_module_version": "^0.3.0",
       "_view_module_version": "^0.3.0",
       "content": "Hello World",
       "debug": false,
       "layout": "IPY_MODEL_0e86aa25b27e4a93bdb8ebd388712c84",
       "name": null,
       "react_version": 18
      }
     },
     "459eb687a0a646a8922e3b7c4206e11d": {
      "model_module": "@jupyter-widgets/base",
      "model_module_version": "2.0.0",
      "model_name": "LayoutModel",
      "state": {}
     },
     "47763eedd2d64892be08af6f51fbd976": {
      "model_module": "@jupyter-widgets/base",
      "model_module_version": "2.0.0",
      "model_name": "LayoutModel",
      "state": {}
     },
     "662a5388f7f34191a613ecd945d855f0": {
      "model_module": "@widgetti/jupyter-react",
      "model_module_version": "^0.3.0",
      "model_name": "ReactModel",
      "state": {
       "_anywidget_id": "__main__.QRCodeWidget",
       "_esm": "\n    import React from \"react\";\n    import QRCode from \"react-qr-code\";\n\n    export default function App({ content }) {\n      return <QRCode value={content} />\n    }\n\n    ",
       "_event_names": [],
       "_import_map": {
        "imports": {
         "@mui/icons-material/": "https://esm.sh/@mui/icons-material/",
         "@mui/material/": "https://esm.sh/@mui/material@5.11.10/",
         "canvas-confetti": "https://esm.sh/canvas-confetti@1.6.0"
        },
        "scopes": {}
       },
       "_model_module_version": "^0.3.0",
       "_view_module_version": "^0.3.0",
       "content": "Hello World",
       "debug": false,
       "layout": "IPY_MODEL_2df24bd400c0492282556f60d7b8d759",
       "name": null,
       "react_version": 18
      }
     },
     "8216ba79a9c34179be25bea5e7016969": {
      "model_module": "@jupyter-widgets/controls",
      "model_module_version": "2.0.0",
      "model_name": "SliderStyleModel",
      "state": {
       "description_width": ""
      }
     },
     "82394df750924662b4a255fce9d73900": {
      "model_module": "@jupyter-widgets/base",
      "model_module_version": "2.0.0",
      "model_name": "LayoutModel",
      "state": {}
     },
     "9180db893c6840afa4fbcab992483dc8": {
      "model_module": "@jupyter-widgets/base",
      "model_module_version": "2.0.0",
      "model_name": "LayoutModel",
      "state": {}
     },
     "95ecd70bba6f49889254439a3c7e0bf3": {
      "model_module": "@jupyter-widgets/controls",
      "model_module_version": "2.0.0",
      "model_name": "TextModel",
      "state": {
       "description": "P1",
       "layout": "IPY_MODEL_9180db893c6840afa4fbcab992483dc8",
       "style": "IPY_MODEL_3678753b2b764b808296afed21d874a1"
      }
     },
     "99df03700f8b4c75982ab93ee59c61c6": {
      "model_module": "@widgetti/jupyter-react",
      "model_module_version": "^0.3.0",
      "model_name": "ReactModel",
      "state": {
       "_anywidget_id": "__main__.QRCodeWidget",
       "_esm": "\n    import React from \"react\";\n    import QRCode from \"react-qr-code\";\n\n    export default function App({ content }) {\n      return <QRCode value={content} />\n    }\n\n    ",
       "_event_names": [],
       "_import_map": {
        "imports": {
         "@mui/icons-material/": "https://esm.sh/@mui/icons-material/",
         "@mui/material/": "https://esm.sh/@mui/material@5.11.10/",
         "canvas-confetti": "https://esm.sh/canvas-confetti@1.6.0"
        },
        "scopes": {}
       },
       "_model_module_version": "^0.3.0",
       "_view_module_version": "^0.3.0",
       "content": "Hello World",
       "debug": false,
       "layout": "IPY_MODEL_a83d8081c0f34397a15dfc8c70913ef8",
       "name": null,
       "react_version": 18
      }
     },
     "a19dfea431c549aaab1a8b4224401817": {
      "model_module": "@jupyter-widgets/base",
      "model_module_version": "2.0.0",
      "model_name": "LayoutModel",
      "state": {}
     },
     "a83d8081c0f34397a15dfc8c70913ef8": {
      "model_module": "@jupyter-widgets/base",
      "model_module_version": "2.0.0",
      "model_name": "LayoutModel",
      "state": {}
     },
     "c9a50fbd639e48cfb57bb15cc027292a": {
      "model_module": "@jupyter-widgets/controls",
      "model_module_version": "2.0.0",
      "model_name": "TextModel",
      "state": {
       "description": "P2",
       "layout": "IPY_MODEL_eb52f49a6d404f5ca4a96fd9287dbf41",
       "style": "IPY_MODEL_f5f22419920541d5905a15151e5c5b64"
      }
     },
     "ca204718fa96474980b97bbec65b3eb1": {
      "model_module": "@jupyter-widgets/base",
      "model_module_version": "2.0.0",
      "model_name": "LayoutModel",
      "state": {}
     },
     "d48cfa97f3f44e518936d3f70561e451": {
      "model_module": "@widgetti/jupyter-react",
      "model_module_version": "^0.3.0",
      "model_name": "ReactModel",
      "state": {
       "_anywidget_id": "__main__.QRCodeWidget",
       "_esm": "\n    import React from \"react\";\n    import QRCode from \"react-qr-code\";\n\n    export default function App({ content }) {\n      return <QRCode value={content} />\n    }\n\n    ",
       "_event_names": [],
       "_import_map": {
        "imports": {
         "@mui/icons-material/": "https://esm.sh/@mui/icons-material/",
         "@mui/material/": "https://esm.sh/@mui/material@5.11.10/",
         "canvas-confetti": "https://esm.sh/canvas-confetti@1.6.0"
        },
        "scopes": {}
       },
       "_model_module_version": "^0.3.0",
       "_view_module_version": "^0.3.0",
       "content": "Hello World",
       "debug": false,
       "layout": "IPY_MODEL_ca204718fa96474980b97bbec65b3eb1",
       "name": null,
       "react_version": 18
      }
     },
     "eb52f49a6d404f5ca4a96fd9287dbf41": {
      "model_module": "@jupyter-widgets/base",
      "model_module_version": "2.0.0",
      "model_name": "LayoutModel",
      "state": {}
     },
     "f5f22419920541d5905a15151e5c5b64": {
      "model_module": "@jupyter-widgets/controls",
      "model_module_version": "2.0.0",
      "model_name": "TextStyleModel",
      "state": {
       "description_width": "",
       "font_size": null,
       "text_color": null
      }
     },
     "f9fa76b6bd2148c58f4276f43ce553f9": {
      "model_module": "@jupyter-widgets/controls",
      "model_module_version": "2.0.0",
      "model_name": "TextModel",
      "state": {
       "description": "P4",
       "layout": "IPY_MODEL_459eb687a0a646a8922e3b7c4206e11d",
       "style": "IPY_MODEL_0598d9a3ee894de3ab9b2425321e72d9"
      }
     }
    },
    "version_major": 2,
    "version_minor": 0
   }
  }
 },
 "nbformat": 4,
 "nbformat_minor": 5
}
